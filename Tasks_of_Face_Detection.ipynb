{
 "cells": [
  {
   "cell_type": "code",
   "execution_count": 29,
   "id": "8a8dd676",
   "metadata": {},
   "outputs": [],
   "source": [
    "import cv2"
   ]
  },
  {
   "cell_type": "code",
   "execution_count": 30,
   "id": "1ee3bbdc",
   "metadata": {},
   "outputs": [],
   "source": [
    "cap = cv2.VideoCapture(0)"
   ]
  },
  {
   "cell_type": "code",
   "execution_count": 31,
   "id": "94b740a4",
   "metadata": {},
   "outputs": [],
   "source": [
    "status, photo = cap.read()"
   ]
  },
  {
   "cell_type": "code",
   "execution_count": 32,
   "id": "ac46cb6a",
   "metadata": {},
   "outputs": [],
   "source": [
    "cv2.imshow(\"Cropped Face with Rectangle\" , photo)\n",
    "cv2.waitKey()\n",
    "cv2.destroyAllWindows()"
   ]
  },
  {
   "cell_type": "code",
   "execution_count": 33,
   "id": "45492e1d",
   "metadata": {},
   "outputs": [],
   "source": [
    "facemodel = cv2.CascadeClassifier(\"myhaarcascade_frontalface_default.xml\")"
   ]
  },
  {
   "cell_type": "code",
   "execution_count": 34,
   "id": "db4244c7",
   "metadata": {},
   "outputs": [
    {
     "data": {
      "text/plain": [
       "1"
      ]
     },
     "execution_count": 34,
     "metadata": {},
     "output_type": "execute_result"
    }
   ],
   "source": [
    "len( facemodel.detectMultiScale(photo) )"
   ]
  },
  {
   "cell_type": "code",
   "execution_count": 35,
   "id": "b41f404f",
   "metadata": {},
   "outputs": [
    {
     "data": {
      "text/plain": [
       "array([[217, 103, 214, 214]])"
      ]
     },
     "execution_count": 35,
     "metadata": {},
     "output_type": "execute_result"
    }
   ],
   "source": [
    "facemodel.detectMultiScale(photo)"
   ]
  },
  {
   "cell_type": "code",
   "execution_count": 36,
   "id": "67316e29",
   "metadata": {},
   "outputs": [],
   "source": [
    "while True:\n",
    "    status, photo = cap.read()\n",
    "\n",
    "    myfacecoord = facemodel.detectMultiScale(photo)\n",
    "#print(myfacecoord)\n",
    "\n",
    "    if len(myfacecoord) == 1:\n",
    "        x1 = myfacecoord[0][0]\n",
    "        y1 = myfacecoord[0][1]\n",
    "        x2 = myfacecoord[0][0] + myfacecoord[0][2]\n",
    "        y2 = myfacecoord[0][1] + myfacecoord[0][3]\n",
    "\n",
    "        cv2.rectangle(photo , (x1,y1) , (x2,y2) , [0,255,0], 5  )\n",
    "\n",
    "    cv2.imshow(\"hi\" , photo)\n",
    "    if cv2.waitKey(10) == 13:\n",
    "        break\n",
    "\n",
    "cap.release()        \n",
    "cv2.destroyAllWindows()"
   ]
  },
  {
   "cell_type": "code",
   "execution_count": 45,
   "id": "ff31e29c",
   "metadata": {},
   "outputs": [],
   "source": [
    "\n",
    "\n",
    "def blur_background(image, faces):\n",
    "   \n",
    "    result_image = image.copy()\n",
    "\n",
    "    \n",
    "    result_image = cv2.GaussianBlur(result_image, (21, 21), 0)\n",
    "\n",
    "    for (x, y, w, h) in faces:\n",
    "        \n",
    "        face_roi = result_image[y:y + h, x:x + w]\n",
    "\n",
    "      \n",
    "        face_roi = cv2.GaussianBlur(face_roi, (0, 0), 30)\n",
    "\n",
    "       \n",
    "        result_image[y:y + h, x:x + w] = face_roi\n",
    "\n",
    "    return result_image\n",
    "\n",
    "\n",
    "\n",
    "\n",
    "\n",
    "gray = cv2.cvtColor(photo, cv2.COLOR_BGR2GRAY)\n",
    "\n",
    "\n",
    "faces = facemodel.detectMultiScale(gray, scaleFactor=1.1, minNeighbors=5, minSize=(30, 30))\n",
    "\n",
    "\n",
    "result = blur_background(photo, faces)\n",
    "\n",
    "\n",
    "cv2.imshow('Result', result)\n",
    " if cv2.waitKey(10) == 13:\n",
    "        break\n",
    "\n",
    "cap.release()        \n",
    "cv2.destroyAllWindows()\n"
   ]
  },
  {
   "cell_type": "code",
   "execution_count": 46,
   "id": "77c8ad8d",
   "metadata": {},
   "outputs": [],
   "source": [
    "import cv2\n",
    "import math\n",
    "\n",
    "\n",
    "\n",
    "\n",
    "\n",
    "KNOWN_FACE_WIDTH = 14  \n",
    "FOCAL_LENGTH = 500 \n",
    "\n",
    "def estimate_distance(face_width_pixels):\n",
    "    \n",
    "    distance = (KNOWN_FACE_WIDTH * FOCAL_LENGTH) / face_width_pixels\n",
    "    return distance\n",
    "\n",
    "\n",
    "cap = cv2.VideoCapture(0)\n",
    "\n",
    "while True:\n",
    "  \n",
    "    ret, frame = cap.read()\n",
    "\n",
    "    if not ret:\n",
    "        break\n",
    "\n",
    "    gray = cv2.cvtColor(frame, cv2.COLOR_BGR2GRAY)\n",
    "\n",
    "    \n",
    "    faces = facemodel.detectMultiScale(gray, scaleFactor=1.1, minNeighbors=5, minSize=(30, 30))\n",
    "\n",
    "    for (x, y, w, h) in faces:\n",
    "        \n",
    "        distance = estimate_distance(w)\n",
    "\n",
    "        \n",
    "        cv2.rectangle(frame, (x, y), (x+w, y+h), (0, 255, 0), 2)\n",
    "        cv2.putText(frame, f\"Distance: {distance:.2f} cm\", (x, y-10), cv2.FONT_HERSHEY_SIMPLEX, 0.9, (0, 255, 0), 2)\n",
    "\n",
    "   \n",
    "    cv2.imshow('Face Distance Estimation', frame)\n",
    "\n",
    "    if cv2.waitKey(10) == 13:\n",
    "        break\n",
    "\n",
    "cap.release()        \n",
    "cv2.destroyAllWindows()\n"
   ]
  },
  {
   "cell_type": "code",
   "execution_count": null,
   "id": "bc38f451",
   "metadata": {},
   "outputs": [],
   "source": [
    "import cv2\n",
    "import numpy as np\n",
    "\n",
    "\n",
    "\n",
    "eye_cascade = cv2.CascadeClassifier(cv2.data.haarcascades + 'haarcascade_eye.xml')\n",
    "\n",
    "\n",
    "sunglasses_img = cv2.imread(\"glasses.png\", cv2.IMREAD_UNCHANGED)\n",
    "\n",
    "def overlay_sunglasses(frame, x, y, w, h):\n",
    "   \n",
    "    roi_gray = frame[y:y+h, x:x+w]\n",
    "    eyes = eye_cascade.detectMultiScale(roi_gray)\n",
    "\n",
    "    if len(eyes) >= 2:\n",
    "\n",
    "        eyes = sorted(eyes, key=lambda x: x[0])\n",
    "\n",
    "        \n",
    "        eye1_x, eye1_y, eye1_w, eye1_h = eyes[0]\n",
    "        eye2_x, eye2_y, eye2_w, eye2_h = eyes[1]\n",
    "        eye1_center = (x + eye1_x + eye1_w // 2, y + eye1_y + eye1_h // 2)\n",
    "        eye2_center = (x + eye2_x + eye2_w // 2, y + eye2_y + eye2_h // 2)\n",
    "\n",
    "        \n",
    "        eyes_distance = eye2_center[0] - eye1_center[0]\n",
    "\n",
    "       \n",
    "        sunglasses_width = int(1.5 * eyes_distance)\n",
    "        sunglasses_height = int(sunglasses_width * sunglasses_img.shape[0] / sunglasses_img.shape[1])\n",
    "\n",
    "       \n",
    "        sunglasses_x = eye1_center[0] - int(0.25 * eyes_distance)\n",
    "        sunglasses_y = eye1_center[1] - int(0.4 * sunglasses_height)\n",
    "\n",
    "       \n",
    "        sunglasses_resized = cv2.resize(sunglasses_img, (sunglasses_width, sunglasses_height))\n",
    "\n",
    "       \n",
    "        mask = sunglasses_resized[:, :, 3]\n",
    "\n",
    "        \n",
    "        mask_inv = cv2.bitwise_not(mask)\n",
    "\n",
    "        \n",
    "        sunglasses_colored = sunglasses_resized[:, :, 0:3]\n",
    "\n",
    "        \n",
    "        roi = frame[sunglasses_y:sunglasses_y + sunglasses_height, sunglasses_x:sunglasses_x + sunglasses_width]\n",
    "        roi_bg = cv2.bitwise_and(roi, roi, mask=mask_inv)\n",
    "        roi_fg = cv2.bitwise_and(sunglasses_colored, sunglasses_colored, mask=mask)\n",
    "\n",
    "       \n",
    "        dst = cv2.add(roi_bg, roi_fg)\n",
    "        frame[sunglasses_y:sunglasses_y + sunglasses_height, sunglasses_x:sunglasses_x + sunglasses_width] = dst\n",
    "\n",
    "\n",
    "cap = cv2.VideoCapture(0)\n",
    "\n",
    "while True:\n",
    "    ret, frame = cap.read()\n",
    "\n",
    "    if not ret:\n",
    "        break\n",
    "\n",
    "    \n",
    "    gray = cv2.cvtColor(frame, cv2.COLOR_BGR2GRAY)\n",
    "\n",
    "    \n",
    "    faces = facemodel.detectMultiScale(gray, scaleFactor=1.3, minNeighbors=5)\n",
    "\n",
    "    for (x, y, w, h) in faces:\n",
    "        overlay_sunglasses(frame, x, y, w, h)\n",
    "\n",
    "   \n",
    "    cv2.imshow('Face with Sunglasses', frame)\n",
    "\n",
    "   if cv2.waitKey(10) == 13:\n",
    "        break\n",
    "\n",
    "cap.release()        \n",
    "cv2.destroyAllWindows()\n"
   ]
  }
 ],
 "metadata": {
  "kernelspec": {
   "display_name": "Python 3 (ipykernel)",
   "language": "python",
   "name": "python3"
  },
  "language_info": {
   "codemirror_mode": {
    "name": "ipython",
    "version": 3
   },
   "file_extension": ".py",
   "mimetype": "text/x-python",
   "name": "python",
   "nbconvert_exporter": "python",
   "pygments_lexer": "ipython3",
   "version": "3.10.9"
  }
 },
 "nbformat": 4,
 "nbformat_minor": 5
}
